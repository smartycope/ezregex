{
 "cells": [
  {
   "cell_type": "code",
   "execution_count": 183,
   "metadata": {},
   "outputs": [],
   "source": [
    "import colorsys\n",
    "from rich import print\n",
    "_colors = (\"#ffe119\", \"#a8f678\", \"#39c5c5\", \"#c5c19b\", '#44ff00', \"#df5e3e\", \"#f08a5d\", '#00ffe1', '#ff0000')"
   ]
  },
  {
   "cell_type": "code",
   "execution_count": 280,
   "metadata": {},
   "outputs": [],
   "source": [
    "def toHtml(r, g, b):\n",
    "    return f'#{r:02x}{g:02x}{b:02x}'\n",
    "\n",
    "def toRgb(html: str) -> tuple:\n",
    "    hex_color = html.lstrip('#')\n",
    "    rgb = tuple(int(hex_color[i:i+2], 16) for i in (0, 2, 4))\n",
    "    return rgb\n",
    "\n",
    "\n",
    "def furthest_colors(html):\n",
    "    rtn = []\n",
    "    comp = complementary(html)\n",
    "    rtn.append(comp)\n",
    "    rtn += triadic(html)\n",
    "    rtn += triadic(comp)\n",
    "    return rtn\n",
    "\n",
    "\n",
    "def generate_colors(amt, s=.75, v=1, offset=0):\n",
    "    \"\"\" Generate `amt` number of colors evenly spaced around the color wheel\n",
    "        with a given saturation and value\n",
    "    \"\"\"\n",
    "    amt += 1\n",
    "    return [toHtml(*map(lambda c: round(c*255), colorsys.hsv_to_rgb(*((offset + ((1/amt) * (i + 1))) % 1.001, s, v)))) for i in range(amt-1)]\n",
    "\n",
    "\n",
    "def furthest_colors(html, amt=5, v_bias=0, s_bias=0):\n",
    "    \"\"\" Gets the `amt` number of colors evenly spaced around the color wheel from the given color\n",
    "        `v_bias` and `s_bias` are between 0-1 and offset the colors\n",
    "    \"\"\"\n",
    "    amt += 1\n",
    "    h, s, v = colorsys.rgb_to_hsv(*map(lambda c: c/255, toRgb(html)))\n",
    "\n",
    "    return [toHtml(*map(lambda c: round(c*255), colorsys.hsv_to_rgb(*((h + ((1/amt) * (i + 1))) % 1.001, (s+s_bias) % 1.001, (v+v_bias) % 1.001)))) for i in range(amt-1)]\n"
   ]
  },
  {
   "cell_type": "code",
   "execution_count": 301,
   "metadata": {},
   "outputs": [
    {
     "data": {
      "text/html": [
       "<pre style=\"white-space:pre;overflow-x:auto;line-height:normal;font-family:Menlo,'DejaVu Sans Mono',consolas,'Courier New',monospace\"><span style=\"color: #ffbf40; text-decoration-color: #ffbf40\">#ffbf40-----------------------------------------</span>\n",
       "</pre>\n"
      ],
      "text/plain": [
       "\u001b[38;2;255;191;64m#ffbf40-----------------------------------------\u001b[0m\n"
      ]
     },
     "metadata": {},
     "output_type": "display_data"
    },
    {
     "data": {
      "text/html": [
       "<pre style=\"white-space:pre;overflow-x:auto;line-height:normal;font-family:Menlo,'DejaVu Sans Mono',consolas,'Courier New',monospace\"><span style=\"color: #ffbf40; text-decoration-color: #ffbf40; background-color: #547f2d\">#ffbf40 on #547f2d</span>  <span style=\"color: #547f2d; text-decoration-color: #547f2d\">#547f2d</span>\n",
       "</pre>\n"
      ],
      "text/plain": [
       "\u001b[38;2;255;191;64;48;2;84;127;45m#ffbf40 on #547f2d\u001b[0m  \u001b[38;2;84;127;45m#547f2d\u001b[0m\n"
      ]
     },
     "metadata": {},
     "output_type": "display_data"
    },
    {
     "data": {
      "text/html": [
       "<pre style=\"white-space:pre;overflow-x:auto;line-height:normal;font-family:Menlo,'DejaVu Sans Mono',consolas,'Courier New',monospace\"><span style=\"color: #ffbf40; text-decoration-color: #ffbf40; background-color: #2d7f4c\">#ffbf40 on #2d7f4c</span>  <span style=\"color: #2d7f4c; text-decoration-color: #2d7f4c\">#2d7f4c</span>\n",
       "</pre>\n"
      ],
      "text/plain": [
       "\u001b[38;2;255;191;64;48;2;45;127;76m#ffbf40 on #2d7f4c\u001b[0m  \u001b[38;2;45;127;76m#2d7f4c\u001b[0m\n"
      ]
     },
     "metadata": {},
     "output_type": "display_data"
    },
    {
     "data": {
      "text/html": [
       "<pre style=\"white-space:pre;overflow-x:auto;line-height:normal;font-family:Menlo,'DejaVu Sans Mono',consolas,'Courier New',monospace\"><span style=\"color: #ffbf40; text-decoration-color: #ffbf40; background-color: #2d6c7f\">#ffbf40 on #2d6c7f</span>  <span style=\"color: #2d6c7f; text-decoration-color: #2d6c7f\">#2d6c7f</span>\n",
       "</pre>\n"
      ],
      "text/plain": [
       "\u001b[38;2;255;191;64;48;2;45;108;127m#ffbf40 on #2d6c7f\u001b[0m  \u001b[38;2;45;108;127m#2d6c7f\u001b[0m\n"
      ]
     },
     "metadata": {},
     "output_type": "display_data"
    },
    {
     "data": {
      "text/html": [
       "<pre style=\"white-space:pre;overflow-x:auto;line-height:normal;font-family:Menlo,'DejaVu Sans Mono',consolas,'Courier New',monospace\"><span style=\"color: #ffbf40; text-decoration-color: #ffbf40; background-color: #342d7f\">#ffbf40 on #342d7f</span>  <span style=\"color: #342d7f; text-decoration-color: #342d7f\">#342d7f</span>\n",
       "</pre>\n"
      ],
      "text/plain": [
       "\u001b[38;2;255;191;64;48;2;52;45;127m#ffbf40 on #342d7f\u001b[0m  \u001b[38;2;52;45;127m#342d7f\u001b[0m\n"
      ]
     },
     "metadata": {},
     "output_type": "display_data"
    },
    {
     "data": {
      "text/html": [
       "<pre style=\"white-space:pre;overflow-x:auto;line-height:normal;font-family:Menlo,'DejaVu Sans Mono',consolas,'Courier New',monospace\"><span style=\"color: #ffbf40; text-decoration-color: #ffbf40; background-color: #7b2d7f\">#ffbf40 on #7b2d7f</span>  <span style=\"color: #7b2d7f; text-decoration-color: #7b2d7f\">#7b2d7f</span>\n",
       "</pre>\n"
      ],
      "text/plain": [
       "\u001b[38;2;255;191;64;48;2;123;45;127m#ffbf40 on #7b2d7f\u001b[0m  \u001b[38;2;123;45;127m#7b2d7f\u001b[0m\n"
      ]
     },
     "metadata": {},
     "output_type": "display_data"
    },
    {
     "data": {
      "text/html": [
       "<pre style=\"white-space:pre;overflow-x:auto;line-height:normal;font-family:Menlo,'DejaVu Sans Mono',consolas,'Courier New',monospace\"><span style=\"color: #ffbf40; text-decoration-color: #ffbf40; background-color: #7f2d3d\">#ffbf40 on #7f2d3d</span>  <span style=\"color: #7f2d3d; text-decoration-color: #7f2d3d\">#7f2d3d</span>\n",
       "</pre>\n"
      ],
      "text/plain": [
       "\u001b[38;2;255;191;64;48;2;127;45;61m#ffbf40 on #7f2d3d\u001b[0m  \u001b[38;2;127;45;61m#7f2d3d\u001b[0m\n"
      ]
     },
     "metadata": {},
     "output_type": "display_data"
    },
    {
     "data": {
      "text/html": [
       "<pre style=\"white-space:pre;overflow-x:auto;line-height:normal;font-family:Menlo,'DejaVu Sans Mono',consolas,'Courier New',monospace\"><span style=\"color: #bfff40; text-decoration-color: #bfff40\">#bfff40-----------------------------------------</span>\n",
       "</pre>\n"
      ],
      "text/plain": [
       "\u001b[38;2;191;255;64m#bfff40-----------------------------------------\u001b[0m\n"
      ]
     },
     "metadata": {},
     "output_type": "display_data"
    },
    {
     "data": {
      "text/html": [
       "<pre style=\"white-space:pre;overflow-x:auto;line-height:normal;font-family:Menlo,'DejaVu Sans Mono',consolas,'Courier New',monospace\"><span style=\"color: #bfff40; text-decoration-color: #bfff40; background-color: #2d7f3d\">#bfff40 on #2d7f3d</span>  <span style=\"color: #2d7f3d; text-decoration-color: #2d7f3d\">#2d7f3d</span>\n",
       "</pre>\n"
      ],
      "text/plain": [
       "\u001b[38;2;191;255;64;48;2;45;127;61m#bfff40 on #2d7f3d\u001b[0m  \u001b[38;2;45;127;61m#2d7f3d\u001b[0m\n"
      ]
     },
     "metadata": {},
     "output_type": "display_data"
    },
    {
     "data": {
      "text/html": [
       "<pre style=\"white-space:pre;overflow-x:auto;line-height:normal;font-family:Menlo,'DejaVu Sans Mono',consolas,'Courier New',monospace\"><span style=\"color: #bfff40; text-decoration-color: #bfff40; background-color: #2d7b7f\">#bfff40 on #2d7b7f</span>  <span style=\"color: #2d7b7f; text-decoration-color: #2d7b7f\">#2d7b7f</span>\n",
       "</pre>\n"
      ],
      "text/plain": [
       "\u001b[38;2;191;255;64;48;2;45;123;127m#bfff40 on #2d7b7f\u001b[0m  \u001b[38;2;45;123;127m#2d7b7f\u001b[0m\n"
      ]
     },
     "metadata": {},
     "output_type": "display_data"
    },
    {
     "data": {
      "text/html": [
       "<pre style=\"white-space:pre;overflow-x:auto;line-height:normal;font-family:Menlo,'DejaVu Sans Mono',consolas,'Courier New',monospace\"><span style=\"color: #bfff40; text-decoration-color: #bfff40; background-color: #2d347f\">#bfff40 on #2d347f</span>  <span style=\"color: #2d347f; text-decoration-color: #2d347f\">#2d347f</span>\n",
       "</pre>\n"
      ],
      "text/plain": [
       "\u001b[38;2;191;255;64;48;2;45;52;127m#bfff40 on #2d347f\u001b[0m  \u001b[38;2;45;52;127m#2d347f\u001b[0m\n"
      ]
     },
     "metadata": {},
     "output_type": "display_data"
    },
    {
     "data": {
      "text/html": [
       "<pre style=\"white-space:pre;overflow-x:auto;line-height:normal;font-family:Menlo,'DejaVu Sans Mono',consolas,'Courier New',monospace\"><span style=\"color: #bfff40; text-decoration-color: #bfff40; background-color: #6c2d7f\">#bfff40 on #6c2d7f</span>  <span style=\"color: #6c2d7f; text-decoration-color: #6c2d7f\">#6c2d7f</span>\n",
       "</pre>\n"
      ],
      "text/plain": [
       "\u001b[38;2;191;255;64;48;2;108;45;127m#bfff40 on #6c2d7f\u001b[0m  \u001b[38;2;108;45;127m#6c2d7f\u001b[0m\n"
      ]
     },
     "metadata": {},
     "output_type": "display_data"
    },
    {
     "data": {
      "text/html": [
       "<pre style=\"white-space:pre;overflow-x:auto;line-height:normal;font-family:Menlo,'DejaVu Sans Mono',consolas,'Courier New',monospace\"><span style=\"color: #bfff40; text-decoration-color: #bfff40; background-color: #7f2d4c\">#bfff40 on #7f2d4c</span>  <span style=\"color: #7f2d4c; text-decoration-color: #7f2d4c\">#7f2d4c</span>\n",
       "</pre>\n"
      ],
      "text/plain": [
       "\u001b[38;2;191;255;64;48;2;127;45;76m#bfff40 on #7f2d4c\u001b[0m  \u001b[38;2;127;45;76m#7f2d4c\u001b[0m\n"
      ]
     },
     "metadata": {},
     "output_type": "display_data"
    },
    {
     "data": {
      "text/html": [
       "<pre style=\"white-space:pre;overflow-x:auto;line-height:normal;font-family:Menlo,'DejaVu Sans Mono',consolas,'Courier New',monospace\"><span style=\"color: #bfff40; text-decoration-color: #bfff40; background-color: #7f542d\">#bfff40 on #7f542d</span>  <span style=\"color: #7f542d; text-decoration-color: #7f542d\">#7f542d</span>\n",
       "</pre>\n"
      ],
      "text/plain": [
       "\u001b[38;2;191;255;64;48;2;127;84;45m#bfff40 on #7f542d\u001b[0m  \u001b[38;2;127;84;45m#7f542d\u001b[0m\n"
      ]
     },
     "metadata": {},
     "output_type": "display_data"
    },
    {
     "data": {
      "text/html": [
       "<pre style=\"white-space:pre;overflow-x:auto;line-height:normal;font-family:Menlo,'DejaVu Sans Mono',consolas,'Courier New',monospace\"><span style=\"color: #40ff40; text-decoration-color: #40ff40\">#40ff40-----------------------------------------</span>\n",
       "</pre>\n"
      ],
      "text/plain": [
       "\u001b[38;2;64;255;64m#40ff40-----------------------------------------\u001b[0m\n"
      ]
     },
     "metadata": {},
     "output_type": "display_data"
    },
    {
     "data": {
      "text/html": [
       "<pre style=\"white-space:pre;overflow-x:auto;line-height:normal;font-family:Menlo,'DejaVu Sans Mono',consolas,'Courier New',monospace\"><span style=\"color: #40ff40; text-decoration-color: #40ff40; background-color: #2d7f73\">#40ff40 on #2d7f73</span>  <span style=\"color: #2d7f73; text-decoration-color: #2d7f73\">#2d7f73</span>\n",
       "</pre>\n"
      ],
      "text/plain": [
       "\u001b[38;2;64;255;64;48;2;45;127;115m#40ff40 on #2d7f73\u001b[0m  \u001b[38;2;45;127;115m#2d7f73\u001b[0m\n"
      ]
     },
     "metadata": {},
     "output_type": "display_data"
    },
    {
     "data": {
      "text/html": [
       "<pre style=\"white-space:pre;overflow-x:auto;line-height:normal;font-family:Menlo,'DejaVu Sans Mono',consolas,'Courier New',monospace\"><span style=\"color: #40ff40; text-decoration-color: #40ff40; background-color: #2d447f\">#40ff40 on #2d447f</span>  <span style=\"color: #2d447f; text-decoration-color: #2d447f\">#2d447f</span>\n",
       "</pre>\n"
      ],
      "text/plain": [
       "\u001b[38;2;64;255;64;48;2;45;68;127m#40ff40 on #2d447f\u001b[0m  \u001b[38;2;45;68;127m#2d447f\u001b[0m\n"
      ]
     },
     "metadata": {},
     "output_type": "display_data"
    },
    {
     "data": {
      "text/html": [
       "<pre style=\"white-space:pre;overflow-x:auto;line-height:normal;font-family:Menlo,'DejaVu Sans Mono',consolas,'Courier New',monospace\"><span style=\"color: #40ff40; text-decoration-color: #40ff40; background-color: #5c2d7f\">#40ff40 on #5c2d7f</span>  <span style=\"color: #5c2d7f; text-decoration-color: #5c2d7f\">#5c2d7f</span>\n",
       "</pre>\n"
      ],
      "text/plain": [
       "\u001b[38;2;64;255;64;48;2;92;45;127m#40ff40 on #5c2d7f\u001b[0m  \u001b[38;2;92;45;127m#5c2d7f\u001b[0m\n"
      ]
     },
     "metadata": {},
     "output_type": "display_data"
    },
    {
     "data": {
      "text/html": [
       "<pre style=\"white-space:pre;overflow-x:auto;line-height:normal;font-family:Menlo,'DejaVu Sans Mono',consolas,'Courier New',monospace\"><span style=\"color: #40ff40; text-decoration-color: #40ff40; background-color: #7f2d5c\">#40ff40 on #7f2d5c</span>  <span style=\"color: #7f2d5c; text-decoration-color: #7f2d5c\">#7f2d5c</span>\n",
       "</pre>\n"
      ],
      "text/plain": [
       "\u001b[38;2;64;255;64;48;2;127;45;92m#40ff40 on #7f2d5c\u001b[0m  \u001b[38;2;127;45;92m#7f2d5c\u001b[0m\n"
      ]
     },
     "metadata": {},
     "output_type": "display_data"
    },
    {
     "data": {
      "text/html": [
       "<pre style=\"white-space:pre;overflow-x:auto;line-height:normal;font-family:Menlo,'DejaVu Sans Mono',consolas,'Courier New',monospace\"><span style=\"color: #40ff40; text-decoration-color: #40ff40; background-color: #7f442d\">#40ff40 on #7f442d</span>  <span style=\"color: #7f442d; text-decoration-color: #7f442d\">#7f442d</span>\n",
       "</pre>\n"
      ],
      "text/plain": [
       "\u001b[38;2;64;255;64;48;2;127;68;45m#40ff40 on #7f442d\u001b[0m  \u001b[38;2;127;68;45m#7f442d\u001b[0m\n"
      ]
     },
     "metadata": {},
     "output_type": "display_data"
    },
    {
     "data": {
      "text/html": [
       "<pre style=\"white-space:pre;overflow-x:auto;line-height:normal;font-family:Menlo,'DejaVu Sans Mono',consolas,'Courier New',monospace\"><span style=\"color: #40ff40; text-decoration-color: #40ff40; background-color: #747f2d\">#40ff40 on #747f2d</span>  <span style=\"color: #747f2d; text-decoration-color: #747f2d\">#747f2d</span>\n",
       "</pre>\n"
      ],
      "text/plain": [
       "\u001b[38;2;64;255;64;48;2;116;127;45m#40ff40 on #747f2d\u001b[0m  \u001b[38;2;116;127;45m#747f2d\u001b[0m\n"
      ]
     },
     "metadata": {},
     "output_type": "display_data"
    },
    {
     "data": {
      "text/html": [
       "<pre style=\"white-space:pre;overflow-x:auto;line-height:normal;font-family:Menlo,'DejaVu Sans Mono',consolas,'Courier New',monospace\"><span style=\"color: #40ffbf; text-decoration-color: #40ffbf\">#40ffbf-----------------------------------------</span>\n",
       "</pre>\n"
      ],
      "text/plain": [
       "\u001b[38;2;64;255;191m#40ffbf-----------------------------------------\u001b[0m\n"
      ]
     },
     "metadata": {},
     "output_type": "display_data"
    },
    {
     "data": {
      "text/html": [
       "<pre style=\"white-space:pre;overflow-x:auto;line-height:normal;font-family:Menlo,'DejaVu Sans Mono',consolas,'Courier New',monospace\"><span style=\"color: #40ffbf; text-decoration-color: #40ffbf; background-color: #2d547f\">#40ffbf on #2d547f</span>  <span style=\"color: #2d547f; text-decoration-color: #2d547f\">#2d547f</span>\n",
       "</pre>\n"
      ],
      "text/plain": [
       "\u001b[38;2;64;255;191;48;2;45;84;127m#40ffbf on #2d547f\u001b[0m  \u001b[38;2;45;84;127m#2d547f\u001b[0m\n"
      ]
     },
     "metadata": {},
     "output_type": "display_data"
    },
    {
     "data": {
      "text/html": [
       "<pre style=\"white-space:pre;overflow-x:auto;line-height:normal;font-family:Menlo,'DejaVu Sans Mono',consolas,'Courier New',monospace\"><span style=\"color: #40ffbf; text-decoration-color: #40ffbf; background-color: #4c2d7f\">#40ffbf on #4c2d7f</span>  <span style=\"color: #4c2d7f; text-decoration-color: #4c2d7f\">#4c2d7f</span>\n",
       "</pre>\n"
      ],
      "text/plain": [
       "\u001b[38;2;64;255;191;48;2;76;45;127m#40ffbf on #4c2d7f\u001b[0m  \u001b[38;2;76;45;127m#4c2d7f\u001b[0m\n"
      ]
     },
     "metadata": {},
     "output_type": "display_data"
    },
    {
     "data": {
      "text/html": [
       "<pre style=\"white-space:pre;overflow-x:auto;line-height:normal;font-family:Menlo,'DejaVu Sans Mono',consolas,'Courier New',monospace\"><span style=\"color: #40ffbf; text-decoration-color: #40ffbf; background-color: #7f2d6c\">#40ffbf on #7f2d6c</span>  <span style=\"color: #7f2d6c; text-decoration-color: #7f2d6c\">#7f2d6c</span>\n",
       "</pre>\n"
      ],
      "text/plain": [
       "\u001b[38;2;64;255;191;48;2;127;45;108m#40ffbf on #7f2d6c\u001b[0m  \u001b[38;2;127;45;108m#7f2d6c\u001b[0m\n"
      ]
     },
     "metadata": {},
     "output_type": "display_data"
    },
    {
     "data": {
      "text/html": [
       "<pre style=\"white-space:pre;overflow-x:auto;line-height:normal;font-family:Menlo,'DejaVu Sans Mono',consolas,'Courier New',monospace\"><span style=\"color: #40ffbf; text-decoration-color: #40ffbf; background-color: #7f342d\">#40ffbf on #7f342d</span>  <span style=\"color: #7f342d; text-decoration-color: #7f342d\">#7f342d</span>\n",
       "</pre>\n"
      ],
      "text/plain": [
       "\u001b[38;2;64;255;191;48;2;127;52;45m#40ffbf on #7f342d\u001b[0m  \u001b[38;2;127;52;45m#7f342d\u001b[0m\n"
      ]
     },
     "metadata": {},
     "output_type": "display_data"
    },
    {
     "data": {
      "text/html": [
       "<pre style=\"white-space:pre;overflow-x:auto;line-height:normal;font-family:Menlo,'DejaVu Sans Mono',consolas,'Courier New',monospace\"><span style=\"color: #40ffbf; text-decoration-color: #40ffbf; background-color: #7f7b2d\">#40ffbf on #7f7b2d</span>  <span style=\"color: #7f7b2d; text-decoration-color: #7f7b2d\">#7f7b2d</span>\n",
       "</pre>\n"
      ],
      "text/plain": [
       "\u001b[38;2;64;255;191;48;2;127;123;45m#40ffbf on #7f7b2d\u001b[0m  \u001b[38;2;127;123;45m#7f7b2d\u001b[0m\n"
      ]
     },
     "metadata": {},
     "output_type": "display_data"
    },
    {
     "data": {
      "text/html": [
       "<pre style=\"white-space:pre;overflow-x:auto;line-height:normal;font-family:Menlo,'DejaVu Sans Mono',consolas,'Courier New',monospace\"><span style=\"color: #40ffbf; text-decoration-color: #40ffbf; background-color: #3d7f2d\">#40ffbf on #3d7f2d</span>  <span style=\"color: #3d7f2d; text-decoration-color: #3d7f2d\">#3d7f2d</span>\n",
       "</pre>\n"
      ],
      "text/plain": [
       "\u001b[38;2;64;255;191;48;2;61;127;45m#40ffbf on #3d7f2d\u001b[0m  \u001b[38;2;61;127;45m#3d7f2d\u001b[0m\n"
      ]
     },
     "metadata": {},
     "output_type": "display_data"
    },
    {
     "data": {
      "text/html": [
       "<pre style=\"white-space:pre;overflow-x:auto;line-height:normal;font-family:Menlo,'DejaVu Sans Mono',consolas,'Courier New',monospace\"><span style=\"color: #40bfff; text-decoration-color: #40bfff\">#40bfff-----------------------------------------</span>\n",
       "</pre>\n"
      ],
      "text/plain": [
       "\u001b[38;2;64;191;255m#40bfff-----------------------------------------\u001b[0m\n"
      ]
     },
     "metadata": {},
     "output_type": "display_data"
    },
    {
     "data": {
      "text/html": [
       "<pre style=\"white-space:pre;overflow-x:auto;line-height:normal;font-family:Menlo,'DejaVu Sans Mono',consolas,'Courier New',monospace\"><span style=\"color: #40bfff; text-decoration-color: #40bfff; background-color: #3d2d7f\">#40bfff on #3d2d7f</span>  <span style=\"color: #3d2d7f; text-decoration-color: #3d2d7f\">#3d2d7f</span>\n",
       "</pre>\n"
      ],
      "text/plain": [
       "\u001b[38;2;64;191;255;48;2;61;45;127m#40bfff on #3d2d7f\u001b[0m  \u001b[38;2;61;45;127m#3d2d7f\u001b[0m\n"
      ]
     },
     "metadata": {},
     "output_type": "display_data"
    },
    {
     "data": {
      "text/html": [
       "<pre style=\"white-space:pre;overflow-x:auto;line-height:normal;font-family:Menlo,'DejaVu Sans Mono',consolas,'Courier New',monospace\"><span style=\"color: #40bfff; text-decoration-color: #40bfff; background-color: #7f2d7b\">#40bfff on #7f2d7b</span>  <span style=\"color: #7f2d7b; text-decoration-color: #7f2d7b\">#7f2d7b</span>\n",
       "</pre>\n"
      ],
      "text/plain": [
       "\u001b[38;2;64;191;255;48;2;127;45;123m#40bfff on #7f2d7b\u001b[0m  \u001b[38;2;127;45;123m#7f2d7b\u001b[0m\n"
      ]
     },
     "metadata": {},
     "output_type": "display_data"
    },
    {
     "data": {
      "text/html": [
       "<pre style=\"white-space:pre;overflow-x:auto;line-height:normal;font-family:Menlo,'DejaVu Sans Mono',consolas,'Courier New',monospace\"><span style=\"color: #40bfff; text-decoration-color: #40bfff; background-color: #7f2d34\">#40bfff on #7f2d34</span>  <span style=\"color: #7f2d34; text-decoration-color: #7f2d34\">#7f2d34</span>\n",
       "</pre>\n"
      ],
      "text/plain": [
       "\u001b[38;2;64;191;255;48;2;127;45;52m#40bfff on #7f2d34\u001b[0m  \u001b[38;2;127;45;52m#7f2d34\u001b[0m\n"
      ]
     },
     "metadata": {},
     "output_type": "display_data"
    },
    {
     "data": {
      "text/html": [
       "<pre style=\"white-space:pre;overflow-x:auto;line-height:normal;font-family:Menlo,'DejaVu Sans Mono',consolas,'Courier New',monospace\"><span style=\"color: #40bfff; text-decoration-color: #40bfff; background-color: #7f6b2d\">#40bfff on #7f6b2d</span>  <span style=\"color: #7f6b2d; text-decoration-color: #7f6b2d\">#7f6b2d</span>\n",
       "</pre>\n"
      ],
      "text/plain": [
       "\u001b[38;2;64;191;255;48;2;127;107;45m#40bfff on #7f6b2d\u001b[0m  \u001b[38;2;127;107;45m#7f6b2d\u001b[0m\n"
      ]
     },
     "metadata": {},
     "output_type": "display_data"
    },
    {
     "data": {
      "text/html": [
       "<pre style=\"white-space:pre;overflow-x:auto;line-height:normal;font-family:Menlo,'DejaVu Sans Mono',consolas,'Courier New',monospace\"><span style=\"color: #40bfff; text-decoration-color: #40bfff; background-color: #4d7f2d\">#40bfff on #4d7f2d</span>  <span style=\"color: #4d7f2d; text-decoration-color: #4d7f2d\">#4d7f2d</span>\n",
       "</pre>\n"
      ],
      "text/plain": [
       "\u001b[38;2;64;191;255;48;2;77;127;45m#40bfff on #4d7f2d\u001b[0m  \u001b[38;2;77;127;45m#4d7f2d\u001b[0m\n"
      ]
     },
     "metadata": {},
     "output_type": "display_data"
    },
    {
     "data": {
      "text/html": [
       "<pre style=\"white-space:pre;overflow-x:auto;line-height:normal;font-family:Menlo,'DejaVu Sans Mono',consolas,'Courier New',monospace\"><span style=\"color: #40bfff; text-decoration-color: #40bfff; background-color: #2d7f54\">#40bfff on #2d7f54</span>  <span style=\"color: #2d7f54; text-decoration-color: #2d7f54\">#2d7f54</span>\n",
       "</pre>\n"
      ],
      "text/plain": [
       "\u001b[38;2;64;191;255;48;2;45;127;84m#40bfff on #2d7f54\u001b[0m  \u001b[38;2;45;127;84m#2d7f54\u001b[0m\n"
      ]
     },
     "metadata": {},
     "output_type": "display_data"
    },
    {
     "data": {
      "text/html": [
       "<pre style=\"white-space:pre;overflow-x:auto;line-height:normal;font-family:Menlo,'DejaVu Sans Mono',consolas,'Courier New',monospace\"><span style=\"color: #4040ff; text-decoration-color: #4040ff\">#4040ff-----------------------------------------</span>\n",
       "</pre>\n"
      ],
      "text/plain": [
       "\u001b[38;2;64;64;255m#4040ff-----------------------------------------\u001b[0m\n"
      ]
     },
     "metadata": {},
     "output_type": "display_data"
    },
    {
     "data": {
      "text/html": [
       "<pre style=\"white-space:pre;overflow-x:auto;line-height:normal;font-family:Menlo,'DejaVu Sans Mono',consolas,'Courier New',monospace\"><span style=\"color: #4040ff; text-decoration-color: #4040ff; background-color: #732d7f\">#4040ff on #732d7f</span>  <span style=\"color: #732d7f; text-decoration-color: #732d7f\">#732d7f</span>\n",
       "</pre>\n"
      ],
      "text/plain": [
       "\u001b[38;2;64;64;255;48;2;115;45;127m#4040ff on #732d7f\u001b[0m  \u001b[38;2;115;45;127m#732d7f\u001b[0m\n"
      ]
     },
     "metadata": {},
     "output_type": "display_data"
    },
    {
     "data": {
      "text/html": [
       "<pre style=\"white-space:pre;overflow-x:auto;line-height:normal;font-family:Menlo,'DejaVu Sans Mono',consolas,'Courier New',monospace\"><span style=\"color: #4040ff; text-decoration-color: #4040ff; background-color: #7f2d44\">#4040ff on #7f2d44</span>  <span style=\"color: #7f2d44; text-decoration-color: #7f2d44\">#7f2d44</span>\n",
       "</pre>\n"
      ],
      "text/plain": [
       "\u001b[38;2;64;64;255;48;2;127;45;68m#4040ff on #7f2d44\u001b[0m  \u001b[38;2;127;45;68m#7f2d44\u001b[0m\n"
      ]
     },
     "metadata": {},
     "output_type": "display_data"
    },
    {
     "data": {
      "text/html": [
       "<pre style=\"white-space:pre;overflow-x:auto;line-height:normal;font-family:Menlo,'DejaVu Sans Mono',consolas,'Courier New',monospace\"><span style=\"color: #4040ff; text-decoration-color: #4040ff; background-color: #7f5b2d\">#4040ff on #7f5b2d</span>  <span style=\"color: #7f5b2d; text-decoration-color: #7f5b2d\">#7f5b2d</span>\n",
       "</pre>\n"
      ],
      "text/plain": [
       "\u001b[38;2;64;64;255;48;2;127;91;45m#4040ff on #7f5b2d\u001b[0m  \u001b[38;2;127;91;45m#7f5b2d\u001b[0m\n"
      ]
     },
     "metadata": {},
     "output_type": "display_data"
    },
    {
     "data": {
      "text/html": [
       "<pre style=\"white-space:pre;overflow-x:auto;line-height:normal;font-family:Menlo,'DejaVu Sans Mono',consolas,'Courier New',monospace\"><span style=\"color: #4040ff; text-decoration-color: #4040ff; background-color: #5c7f2d\">#4040ff on #5c7f2d</span>  <span style=\"color: #5c7f2d; text-decoration-color: #5c7f2d\">#5c7f2d</span>\n",
       "</pre>\n"
      ],
      "text/plain": [
       "\u001b[38;2;64;64;255;48;2;92;127;45m#4040ff on #5c7f2d\u001b[0m  \u001b[38;2;92;127;45m#5c7f2d\u001b[0m\n"
      ]
     },
     "metadata": {},
     "output_type": "display_data"
    },
    {
     "data": {
      "text/html": [
       "<pre style=\"white-space:pre;overflow-x:auto;line-height:normal;font-family:Menlo,'DejaVu Sans Mono',consolas,'Courier New',monospace\"><span style=\"color: #4040ff; text-decoration-color: #4040ff; background-color: #2d7f44\">#4040ff on #2d7f44</span>  <span style=\"color: #2d7f44; text-decoration-color: #2d7f44\">#2d7f44</span>\n",
       "</pre>\n"
      ],
      "text/plain": [
       "\u001b[38;2;64;64;255;48;2;45;127;68m#4040ff on #2d7f44\u001b[0m  \u001b[38;2;45;127;68m#2d7f44\u001b[0m\n"
      ]
     },
     "metadata": {},
     "output_type": "display_data"
    },
    {
     "data": {
      "text/html": [
       "<pre style=\"white-space:pre;overflow-x:auto;line-height:normal;font-family:Menlo,'DejaVu Sans Mono',consolas,'Courier New',monospace\"><span style=\"color: #4040ff; text-decoration-color: #4040ff; background-color: #2d747f\">#4040ff on #2d747f</span>  <span style=\"color: #2d747f; text-decoration-color: #2d747f\">#2d747f</span>\n",
       "</pre>\n"
      ],
      "text/plain": [
       "\u001b[38;2;64;64;255;48;2;45;116;127m#4040ff on #2d747f\u001b[0m  \u001b[38;2;45;116;127m#2d747f\u001b[0m\n"
      ]
     },
     "metadata": {},
     "output_type": "display_data"
    },
    {
     "data": {
      "text/html": [
       "<pre style=\"white-space:pre;overflow-x:auto;line-height:normal;font-family:Menlo,'DejaVu Sans Mono',consolas,'Courier New',monospace\"><span style=\"color: #bf40ff; text-decoration-color: #bf40ff\">#bf40ff-----------------------------------------</span>\n",
       "</pre>\n"
      ],
      "text/plain": [
       "\u001b[38;2;191;64;255m#bf40ff-----------------------------------------\u001b[0m\n"
      ]
     },
     "metadata": {},
     "output_type": "display_data"
    },
    {
     "data": {
      "text/html": [
       "<pre style=\"white-space:pre;overflow-x:auto;line-height:normal;font-family:Menlo,'DejaVu Sans Mono',consolas,'Courier New',monospace\"><span style=\"color: #bf40ff; text-decoration-color: #bf40ff; background-color: #7f2d54\">#bf40ff on #7f2d54</span>  <span style=\"color: #7f2d54; text-decoration-color: #7f2d54\">#7f2d54</span>\n",
       "</pre>\n"
      ],
      "text/plain": [
       "\u001b[38;2;191;64;255;48;2;127;45;84m#bf40ff on #7f2d54\u001b[0m  \u001b[38;2;127;45;84m#7f2d54\u001b[0m\n"
      ]
     },
     "metadata": {},
     "output_type": "display_data"
    },
    {
     "data": {
      "text/html": [
       "<pre style=\"white-space:pre;overflow-x:auto;line-height:normal;font-family:Menlo,'DejaVu Sans Mono',consolas,'Courier New',monospace\"><span style=\"color: #bf40ff; text-decoration-color: #bf40ff; background-color: #7f4c2d\">#bf40ff on #7f4c2d</span>  <span style=\"color: #7f4c2d; text-decoration-color: #7f4c2d\">#7f4c2d</span>\n",
       "</pre>\n"
      ],
      "text/plain": [
       "\u001b[38;2;191;64;255;48;2;127;76;45m#bf40ff on #7f4c2d\u001b[0m  \u001b[38;2;127;76;45m#7f4c2d\u001b[0m\n"
      ]
     },
     "metadata": {},
     "output_type": "display_data"
    },
    {
     "data": {
      "text/html": [
       "<pre style=\"white-space:pre;overflow-x:auto;line-height:normal;font-family:Menlo,'DejaVu Sans Mono',consolas,'Courier New',monospace\"><span style=\"color: #bf40ff; text-decoration-color: #bf40ff; background-color: #6c7f2d\">#bf40ff on #6c7f2d</span>  <span style=\"color: #6c7f2d; text-decoration-color: #6c7f2d\">#6c7f2d</span>\n",
       "</pre>\n"
      ],
      "text/plain": [
       "\u001b[38;2;191;64;255;48;2;108;127;45m#bf40ff on #6c7f2d\u001b[0m  \u001b[38;2;108;127;45m#6c7f2d\u001b[0m\n"
      ]
     },
     "metadata": {},
     "output_type": "display_data"
    },
    {
     "data": {
      "text/html": [
       "<pre style=\"white-space:pre;overflow-x:auto;line-height:normal;font-family:Menlo,'DejaVu Sans Mono',consolas,'Courier New',monospace\"><span style=\"color: #bf40ff; text-decoration-color: #bf40ff; background-color: #2d7f34\">#bf40ff on #2d7f34</span>  <span style=\"color: #2d7f34; text-decoration-color: #2d7f34\">#2d7f34</span>\n",
       "</pre>\n"
      ],
      "text/plain": [
       "\u001b[38;2;191;64;255;48;2;45;127;52m#bf40ff on #2d7f34\u001b[0m  \u001b[38;2;45;127;52m#2d7f34\u001b[0m\n"
      ]
     },
     "metadata": {},
     "output_type": "display_data"
    },
    {
     "data": {
      "text/html": [
       "<pre style=\"white-space:pre;overflow-x:auto;line-height:normal;font-family:Menlo,'DejaVu Sans Mono',consolas,'Courier New',monospace\"><span style=\"color: #bf40ff; text-decoration-color: #bf40ff; background-color: #2d7f7b\">#bf40ff on #2d7f7b</span>  <span style=\"color: #2d7f7b; text-decoration-color: #2d7f7b\">#2d7f7b</span>\n",
       "</pre>\n"
      ],
      "text/plain": [
       "\u001b[38;2;191;64;255;48;2;45;127;123m#bf40ff on #2d7f7b\u001b[0m  \u001b[38;2;45;127;123m#2d7f7b\u001b[0m\n"
      ]
     },
     "metadata": {},
     "output_type": "display_data"
    },
    {
     "data": {
      "text/html": [
       "<pre style=\"white-space:pre;overflow-x:auto;line-height:normal;font-family:Menlo,'DejaVu Sans Mono',consolas,'Courier New',monospace\"><span style=\"color: #bf40ff; text-decoration-color: #bf40ff; background-color: #2d3d7f\">#bf40ff on #2d3d7f</span>  <span style=\"color: #2d3d7f; text-decoration-color: #2d3d7f\">#2d3d7f</span>\n",
       "</pre>\n"
      ],
      "text/plain": [
       "\u001b[38;2;191;64;255;48;2;45;61;127m#bf40ff on #2d3d7f\u001b[0m  \u001b[38;2;45;61;127m#2d3d7f\u001b[0m\n"
      ]
     },
     "metadata": {},
     "output_type": "display_data"
    },
    {
     "data": {
      "text/html": [
       "<pre style=\"white-space:pre;overflow-x:auto;line-height:normal;font-family:Menlo,'DejaVu Sans Mono',consolas,'Courier New',monospace\"><span style=\"color: #ff40bf; text-decoration-color: #ff40bf\">#ff40bf-----------------------------------------</span>\n",
       "</pre>\n"
      ],
      "text/plain": [
       "\u001b[38;2;255;64;191m#ff40bf-----------------------------------------\u001b[0m\n"
      ]
     },
     "metadata": {},
     "output_type": "display_data"
    },
    {
     "data": {
      "text/html": [
       "<pre style=\"white-space:pre;overflow-x:auto;line-height:normal;font-family:Menlo,'DejaVu Sans Mono',consolas,'Courier New',monospace\"><span style=\"color: #ff40bf; text-decoration-color: #ff40bf; background-color: #7f3c2d\">#ff40bf on #7f3c2d</span>  <span style=\"color: #7f3c2d; text-decoration-color: #7f3c2d\">#7f3c2d</span>\n",
       "</pre>\n"
      ],
      "text/plain": [
       "\u001b[38;2;255;64;191;48;2;127;60;45m#ff40bf on #7f3c2d\u001b[0m  \u001b[38;2;127;60;45m#7f3c2d\u001b[0m\n"
      ]
     },
     "metadata": {},
     "output_type": "display_data"
    },
    {
     "data": {
      "text/html": [
       "<pre style=\"white-space:pre;overflow-x:auto;line-height:normal;font-family:Menlo,'DejaVu Sans Mono',consolas,'Courier New',monospace\"><span style=\"color: #ff40bf; text-decoration-color: #ff40bf; background-color: #7c7f2d\">#ff40bf on #7c7f2d</span>  <span style=\"color: #7c7f2d; text-decoration-color: #7c7f2d\">#7c7f2d</span>\n",
       "</pre>\n"
      ],
      "text/plain": [
       "\u001b[38;2;255;64;191;48;2;124;127;45m#ff40bf on #7c7f2d\u001b[0m  \u001b[38;2;124;127;45m#7c7f2d\u001b[0m\n"
      ]
     },
     "metadata": {},
     "output_type": "display_data"
    },
    {
     "data": {
      "text/html": [
       "<pre style=\"white-space:pre;overflow-x:auto;line-height:normal;font-family:Menlo,'DejaVu Sans Mono',consolas,'Courier New',monospace\"><span style=\"color: #ff40bf; text-decoration-color: #ff40bf; background-color: #357f2d\">#ff40bf on #357f2d</span>  <span style=\"color: #357f2d; text-decoration-color: #357f2d\">#357f2d</span>\n",
       "</pre>\n"
      ],
      "text/plain": [
       "\u001b[38;2;255;64;191;48;2;53;127;45m#ff40bf on #357f2d\u001b[0m  \u001b[38;2;53;127;45m#357f2d\u001b[0m\n"
      ]
     },
     "metadata": {},
     "output_type": "display_data"
    },
    {
     "data": {
      "text/html": [
       "<pre style=\"white-space:pre;overflow-x:auto;line-height:normal;font-family:Menlo,'DejaVu Sans Mono',consolas,'Courier New',monospace\"><span style=\"color: #ff40bf; text-decoration-color: #ff40bf; background-color: #2d7f6b\">#ff40bf on #2d7f6b</span>  <span style=\"color: #2d7f6b; text-decoration-color: #2d7f6b\">#2d7f6b</span>\n",
       "</pre>\n"
      ],
      "text/plain": [
       "\u001b[38;2;255;64;191;48;2;45;127;107m#ff40bf on #2d7f6b\u001b[0m  \u001b[38;2;45;127;107m#2d7f6b\u001b[0m\n"
      ]
     },
     "metadata": {},
     "output_type": "display_data"
    },
    {
     "data": {
      "text/html": [
       "<pre style=\"white-space:pre;overflow-x:auto;line-height:normal;font-family:Menlo,'DejaVu Sans Mono',consolas,'Courier New',monospace\"><span style=\"color: #ff40bf; text-decoration-color: #ff40bf; background-color: #2d4d7f\">#ff40bf on #2d4d7f</span>  <span style=\"color: #2d4d7f; text-decoration-color: #2d4d7f\">#2d4d7f</span>\n",
       "</pre>\n"
      ],
      "text/plain": [
       "\u001b[38;2;255;64;191;48;2;45;77;127m#ff40bf on #2d4d7f\u001b[0m  \u001b[38;2;45;77;127m#2d4d7f\u001b[0m\n"
      ]
     },
     "metadata": {},
     "output_type": "display_data"
    },
    {
     "data": {
      "text/html": [
       "<pre style=\"white-space:pre;overflow-x:auto;line-height:normal;font-family:Menlo,'DejaVu Sans Mono',consolas,'Courier New',monospace\"><span style=\"color: #ff40bf; text-decoration-color: #ff40bf; background-color: #542d7f\">#ff40bf on #542d7f</span>  <span style=\"color: #542d7f; text-decoration-color: #542d7f\">#542d7f</span>\n",
       "</pre>\n"
      ],
      "text/plain": [
       "\u001b[38;2;255;64;191;48;2;84;45;127m#ff40bf on #542d7f\u001b[0m  \u001b[38;2;84;45;127m#542d7f\u001b[0m\n"
      ]
     },
     "metadata": {},
     "output_type": "display_data"
    }
   ],
   "source": [
    "foreground_s = .75\n",
    "foreground_v = 1\n",
    "background_v_bias = .5\n",
    "background_s_bias = .9\n",
    "\n",
    "for c in generate_colors(8, s=foreground_s, v=foreground_v, offset=0/16):\n",
    "    print(f'[{c}]{c}-----------------------------------------[/]')\n",
    "    for opp in furthest_colors(c, amt=6, v_bias=background_v_bias, s_bias=background_v_bias):\n",
    "        print(f'[{c} on {opp}]{c} on {opp}[/]  [{opp}]{opp}[/]')"
   ]
  }
 ],
 "metadata": {
  "kernelspec": {
   "display_name": ".venv",
   "language": "python",
   "name": "python3"
  },
  "language_info": {
   "codemirror_mode": {
    "name": "ipython",
    "version": 3
   },
   "file_extension": ".py",
   "mimetype": "text/x-python",
   "name": "python",
   "nbconvert_exporter": "python",
   "pygments_lexer": "ipython3",
   "version": "3.12.0"
  }
 },
 "nbformat": 4,
 "nbformat_minor": 2
}
